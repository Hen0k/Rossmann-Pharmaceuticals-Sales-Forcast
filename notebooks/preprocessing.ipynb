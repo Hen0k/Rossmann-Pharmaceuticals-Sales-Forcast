{
 "cells": [
  {
   "cell_type": "markdown",
   "metadata": {},
   "source": [
    "## Imports"
   ]
  },
  {
   "cell_type": "code",
   "execution_count": 1,
   "metadata": {},
   "outputs": [],
   "source": [
    "import sys\n",
    "sys.path.append('../')\n",
    "import gc\n",
    "import pandas as pd\n",
    "import numpy as np\n",
    "\n",
    "from src.fetch_data import DataLoader\n",
    "from src.exploration import Analysis\n",
    "from src.cleaning import CleanDataFrame\n",
    "from src.visualization import Plotters\n",
    "from src.processing import PreProcess\n",
    "\n",
    "\n",
    "import matplotlib.pyplot as plt\n",
    "\n",
    "\n",
    "\n",
    "cleaner = CleanDataFrame()\n",
    "analyzer = Analysis()\n",
    "preprocessor = PreProcess()\n",
    "plotters = Plotters(w=6, h=4)\n",
    "\n",
    "# pd.options.plotting.backend = 'matplotlib'\n",
    "plt.rcParams.update({'font.size': 24})\n",
    "# plt.rcParams.update({'xtick.labelsize': 'large'})\n",
    "# plt.rcParams.update({'ytick.labelsize': 'large'})\n",
    "plt.rcParams.update({'legend.fontsize': 24})\n",
    "%matplotlib inline\n",
    "# plt.rcParams.keys()\n",
    "\n"
   ]
  },
  {
   "cell_type": "markdown",
   "metadata": {},
   "source": [
    "## Fetch the dataframes"
   ]
  },
  {
   "cell_type": "code",
   "execution_count": 2,
   "metadata": {},
   "outputs": [
    {
     "name": "stderr",
     "output_type": "stream",
     "text": [
      "/home/hat/dev-env/10Acadamy/week_3/Rossmann-Pharmaceuticals-Sales-Forcast/notebooks/../src/fetch_data.py:28: DtypeWarning: Columns (13) have mixed types. Specify dtype option on import or set low_memory=False.\n",
      "  df = pd.read_csv(io.StringIO(content), sep=\",\")\n",
      "DataLoaderLogger - INFO - DVC: CSV file read with path: data/merged/train.csv | version: merged_v2 | from: ../\n",
      "DataLoaderLogger - INFO - DVC: CSV file read with path: data/merged/test.csv | version: merged_v2 | from: ../\n"
     ]
    }
   ],
   "source": [
    "# Then load the raw sales data\n",
    "data_path = 'data/merged/train.csv'\n",
    "version = 'merged_v2'\n",
    "repo = '../'\n",
    "\n",
    "train_df = DataLoader.dvc_get_data(data_path, version, repo)\n",
    "train_df['Date'] = pd.to_datetime(train_df['Date'])\n",
    "# Finally load the test data\n",
    "data_path = 'data/merged/test.csv'\n",
    "version = 'merged_v2'\n",
    "repo = '../'\n",
    "\n",
    "test_df = DataLoader.dvc_get_data(data_path, version, repo)\n",
    "test_df['Date'] = pd.to_datetime(test_df['Date'])"
   ]
  },
  {
   "cell_type": "markdown",
   "metadata": {},
   "source": [
    "# "
   ]
  },
  {
   "cell_type": "code",
   "execution_count": 5,
   "metadata": {},
   "outputs": [],
   "source": [
    "train_df.drop(columns=['Unnamed: 0']).to_csv('../data/merged/train.csv', index=False)\n",
    "test_df.drop(columns=['Unnamed: 0']).to_csv('../data/merged/test.csv', index=False)"
   ]
  },
  {
   "cell_type": "markdown",
   "metadata": {},
   "source": [
    "# Features correlation to target"
   ]
  },
  {
   "cell_type": "code",
   "execution_count": 3,
   "metadata": {},
   "outputs": [
    {
     "data": {
      "text/plain": [
       "Sales                       1.000000\n",
       "Customers                   0.894711\n",
       "Open                        0.678472\n",
       "Promo                       0.452345\n",
       "SchoolHoliday               0.085124\n",
       "Store                       0.005126\n",
       "Unnamed: 0                  0.005103\n",
       "CompetitionDistance        -0.018869\n",
       "CompetitionOpenSinceYear   -0.038540\n",
       "Promo2SinceWeek            -0.044143\n",
       "Promo2                     -0.091040\n",
       "Promo2SinceYear            -0.091056\n",
       "DayOfWeek                  -0.462125\n",
       "Name: Sales, dtype: float64"
      ]
     },
     "execution_count": 3,
     "metadata": {},
     "output_type": "execute_result"
    }
   ],
   "source": [
    "train_df.corr()[\"Sales\"].sort_values(ascending=False)\n"
   ]
  },
  {
   "cell_type": "markdown",
   "metadata": {},
   "source": [
    "Let me fist check the test data to see what my models would be infering with."
   ]
  },
  {
   "cell_type": "code",
   "execution_count": 4,
   "metadata": {},
   "outputs": [
    {
     "name": "stdout",
     "output_type": "stream",
     "text": [
      "<class 'pandas.core.frame.DataFrame'>\n",
      "RangeIndex: 41088 entries, 0 to 41087\n",
      "Data columns (total 18 columns):\n",
      " #   Column                     Non-Null Count  Dtype         \n",
      "---  ------                     --------------  -----         \n",
      " 0   Unnamed: 0                 41088 non-null  int64         \n",
      " 1   Id                         41088 non-null  int64         \n",
      " 2   Store                      41088 non-null  int64         \n",
      " 3   DayOfWeek                  41088 non-null  int64         \n",
      " 4   Date                       41088 non-null  datetime64[ns]\n",
      " 5   Open                       41077 non-null  float64       \n",
      " 6   Promo                      41088 non-null  int64         \n",
      " 7   StateHoliday               41088 non-null  object        \n",
      " 8   SchoolHoliday              41088 non-null  int64         \n",
      " 9   StoreType                  41088 non-null  object        \n",
      " 10  Assortment                 41088 non-null  object        \n",
      " 11  CompetitionDistance        41088 non-null  float64       \n",
      " 12  CompetitionOpenSinceMonth  41088 non-null  object        \n",
      " 13  CompetitionOpenSinceYear   41088 non-null  float64       \n",
      " 14  Promo2                     41088 non-null  int64         \n",
      " 15  Promo2SinceWeek            41088 non-null  float64       \n",
      " 16  Promo2SinceYear            41088 non-null  float64       \n",
      " 17  PromoInterval              41088 non-null  object        \n",
      "dtypes: datetime64[ns](1), float64(5), int64(7), object(5)\n",
      "memory usage: 5.6+ MB\n"
     ]
    }
   ],
   "source": [
    "test_df.info()"
   ]
  },
  {
   "cell_type": "markdown",
   "metadata": {},
   "source": [
    "The number of Customer has the highes correlation with the Sales, but we don't have that in our test data. So, first I will filter the columns that are in my test data. There are also some columns that are in training data but not in test. so, I will drop those. \n",
    "\n",
    "All this is implemented in the `PreProcessor` class"
   ]
  },
  {
   "cell_type": "code",
   "execution_count": 5,
   "metadata": {},
   "outputs": [
    {
     "name": "stdout",
     "output_type": "stream",
     "text": [
      "17 22\n",
      "16\n"
     ]
    }
   ],
   "source": [
    "test_colunns = set(test_df.columns)\n",
    "train_columns = set(train_df.columns)\n",
    "print(len(test_colunns), len(train_columns))\n",
    "common_columns = test_colunns.intersection(train_columns)\n",
    "print(len(common_columns))"
   ]
  },
  {
   "cell_type": "code",
   "execution_count": 6,
   "metadata": {},
   "outputs": [],
   "source": [
    "# train_df.info()"
   ]
  },
  {
   "cell_type": "code",
   "execution_count": 7,
   "metadata": {},
   "outputs": [],
   "source": [
    "# common_columns"
   ]
  },
  {
   "cell_type": "code",
   "execution_count": 8,
   "metadata": {},
   "outputs": [],
   "source": [
    "# train_columns.difference(test_colunns)"
   ]
  },
  {
   "cell_type": "markdown",
   "metadata": {},
   "source": [
    "And these are the columns that are common in both. Other than the Customer column, the other will be recreated next. I'm just removing them the data, to help me test the pre-processing pipeline I am building.\n"
   ]
  },
  {
   "cell_type": "code",
   "execution_count": 9,
   "metadata": {},
   "outputs": [],
   "source": [
    "train_df.drop(columns=list(train_columns.difference(test_colunns)),\n",
    "              inplace=True)\n"
   ]
  },
  {
   "cell_type": "markdown",
   "metadata": {},
   "source": [
    "\n",
    "- Raw data comes in\n",
    "- Feature engineering\n",
    "- Droping columns\n",
    "- Encoding categoricals\n",
    "- Scalling\n"
   ]
  },
  {
   "cell_type": "markdown",
   "metadata": {},
   "source": [
    "I have created a module for feature engineering, which I will utilize here."
   ]
  },
  {
   "cell_type": "code",
   "execution_count": 10,
   "metadata": {},
   "outputs": [
    {
     "name": "stderr",
     "output_type": "stream",
     "text": [
      "PreProcessorLogger - INFO - Dropped 16 columns since they are not in the test data\n",
      "PreProcessorLogger - INFO - 9 new columns added to the dataframe\n",
      "PreProcessorLogger - INFO - Feature enginerring completed\n"
     ]
    }
   ],
   "source": [
    "preped_train_df = preprocessor.transform(train_df)"
   ]
  },
  {
   "cell_type": "code",
   "execution_count": 11,
   "metadata": {},
   "outputs": [
    {
     "name": "stdout",
     "output_type": "stream",
     "text": [
      "<class 'pandas.core.frame.DataFrame'>\n",
      "RangeIndex: 1017209 entries, 0 to 1017208\n",
      "Data columns (total 27 columns):\n",
      " #   Column                     Non-Null Count    Dtype         \n",
      "---  ------                     --------------    -----         \n",
      " 0   Assortment                 1017209 non-null  object        \n",
      " 1   CompetitionDistance        1017209 non-null  float64       \n",
      " 2   CompetitionOpenSinceMonth  693861 non-null   float64       \n",
      " 3   CompetitionOpenSinceYear   693861 non-null   float64       \n",
      " 4   Date                       1017209 non-null  datetime64[ns]\n",
      " 5   DayOfWeek                  1017209 non-null  int64         \n",
      " 6   Open                       1017209 non-null  int64         \n",
      " 7   Promo                      1017209 non-null  int64         \n",
      " 8   Promo2                     1017209 non-null  int64         \n",
      " 9   Promo2SinceWeek            1017209 non-null  float64       \n",
      " 10  Promo2SinceYear            1017209 non-null  float64       \n",
      " 11  PromoInterval              1017209 non-null  object        \n",
      " 12  SchoolHoliday              1017209 non-null  int64         \n",
      " 13  StateHoliday               1017209 non-null  object        \n",
      " 14  Store                      1017209 non-null  int64         \n",
      " 15  StoreType                  1017209 non-null  object        \n",
      " 16  DistanceToNextHoliday      1017209 non-null  int64         \n",
      " 17  DistanceFromPrevHoliday    1017209 non-null  int64         \n",
      " 18  Year                       1017209 non-null  int64         \n",
      " 19  Month                      1017209 non-null  int64         \n",
      " 20  WeekOfYear                 1017209 non-null  UInt32        \n",
      " 21  is_month_end               1017209 non-null  bool          \n",
      " 22  is_month_start             1017209 non-null  bool          \n",
      " 23  is_quarter_end             1017209 non-null  bool          \n",
      " 24  is_quarter_start           1017209 non-null  bool          \n",
      " 25  is_year_end                1017209 non-null  bool          \n",
      " 26  is_year_start              1017209 non-null  bool          \n",
      "dtypes: UInt32(1), bool(6), datetime64[ns](1), float64(5), int64(10), object(4)\n",
      "memory usage: 165.9+ MB\n"
     ]
    }
   ],
   "source": [
    "preped_train_df.info()"
   ]
  },
  {
   "cell_type": "code",
   "execution_count": null,
   "metadata": {},
   "outputs": [],
   "source": [
    "preped_train_df.corr()[\"Sales\"].sort_values(ascending=False)\n"
   ]
  },
  {
   "cell_type": "code",
   "execution_count": null,
   "metadata": {},
   "outputs": [],
   "source": []
  }
 ],
 "metadata": {
  "interpreter": {
   "hash": "9ae17cd3bd788a94320e0d05b6452017a9651648b673e7b352c316aae5e41a4d"
  },
  "kernelspec": {
   "display_name": "Python 3.10.4 ('venv': venv)",
   "language": "python",
   "name": "python3"
  },
  "language_info": {
   "codemirror_mode": {
    "name": "ipython",
    "version": 3
   },
   "file_extension": ".py",
   "mimetype": "text/x-python",
   "name": "python",
   "nbconvert_exporter": "python",
   "pygments_lexer": "ipython3",
   "version": "3.10.4"
  },
  "orig_nbformat": 4
 },
 "nbformat": 4,
 "nbformat_minor": 2
}

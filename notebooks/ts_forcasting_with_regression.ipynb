{
 "cells": [
  {
   "cell_type": "markdown",
   "metadata": {},
   "source": [
    "# Modeling with Regression models"
   ]
  },
  {
   "cell_type": "code",
   "execution_count": 6,
   "metadata": {},
   "outputs": [],
   "source": [
    "import gc\n",
    "import sys\n",
    "sys.path.append('../')\n",
    "\n",
    "import pandas as pd\n",
    "import numpy as np\n",
    "\n",
    "\n",
    "from sklearn.ensemble import RandomForestRegressor\n",
    "\n",
    "import matplotlib.pyplot as plt\n",
    "import seaborn as sns\n",
    "\n",
    "sns.set_style(\"darkgrid\")\n",
    "%matplotlib inline\n",
    "\n",
    "\n",
    "from src.fetch_data import DataLoader\n",
    "from src.exploration import Analysis\n",
    "from src.cleaning import CleanDataFrame\n",
    "from src.visualization import Plotters\n",
    "from src.processing import FeatureEngineering\n",
    "from src.modeling_pipeline import (\n",
    "    run_train_pipeline, \n",
    "    get_pipeline,\n",
    "    )\n",
    "\n",
    "\n",
    "import mlflow\n",
    "\n",
    "\n",
    "cleaner = CleanDataFrame()\n",
    "feature_engineering = FeatureEngineering()\n",
    "plotters = Plotters(w=6, h=4)"
   ]
  },
  {
   "cell_type": "markdown",
   "metadata": {},
   "source": [
    "# Getting the data"
   ]
  },
  {
   "cell_type": "code",
   "execution_count": 7,
   "metadata": {},
   "outputs": [
    {
     "name": "stderr",
     "output_type": "stream",
     "text": [
      "/home/hat/dev-env/10Acadamy/week_3/Rossmann-Pharmaceuticals-Sales-Forcast/notebooks/../src/fetch_data.py:28: DtypeWarning: Columns (12) have mixed types. Specify dtype option on import or set low_memory=False.\n",
      "  df = pd.read_csv(io.StringIO(content), sep=\",\")\n",
      "DataLoaderLogger - INFO - DVC: CSV file read with path: data/merged/train.csv | version: merged_v3 | from: ../\n"
     ]
    }
   ],
   "source": [
    "# Then load the raw sales data\n",
    "data_path = 'data/merged/train.csv'\n",
    "version = 'merged_v3'\n",
    "repo = '../'\n",
    "\n",
    "train_df = DataLoader.dvc_get_data(data_path, version, repo)\n",
    "train_df['Date'] = pd.to_datetime(train_df['Date'])\n",
    "\n",
    "# load the test data\n",
    "# data_path = 'data/merged/test.csv'\n",
    "# version = 'merged_v3'\n",
    "# repo = '../'\n",
    "\n",
    "# test_df = DataLoader.dvc_get_data(data_path, version, repo)\n",
    "# test_df['Date'] = pd.to_datetime(test_df['Date'])"
   ]
  },
  {
   "cell_type": "markdown",
   "metadata": {},
   "source": [
    "I will add the additional columns from the feature engineering here"
   ]
  },
  {
   "cell_type": "code",
   "execution_count": 8,
   "metadata": {},
   "outputs": [
    {
     "name": "stderr",
     "output_type": "stream",
     "text": [
      "FeatureEngineeringLogger - INFO - 9 new columns added to the dataframe\n",
      "FeatureEngineeringLogger - INFO - Feature enginerring completed\n"
     ]
    }
   ],
   "source": [
    "train_df = feature_engineering.transform(train_df)\n"
   ]
  },
  {
   "cell_type": "markdown",
   "metadata": {},
   "source": [
    "In order to properly split the data, we need the timeframe for it. I will grab all the unique dates in the `Date` column"
   ]
  },
  {
   "cell_type": "code",
   "execution_count": 9,
   "metadata": {},
   "outputs": [
    {
     "name": "stdout",
     "output_type": "stream",
     "text": [
      "Starts at 2013-01-01T00:00:00.000000000 --- ends at: 2015-07-31T00:00:00.000000000\n",
      "It spans for 942 days\n"
     ]
    }
   ],
   "source": [
    "timeframe = train_df.Date.unique()\n",
    "timeframe.sort()\n",
    "print(f\"Starts at {timeframe[0]} --- ends at: {timeframe[-1]}\")\n",
    "print(f\"It spans for {len(timeframe)} days\")"
   ]
  },
  {
   "cell_type": "markdown",
   "metadata": {},
   "source": [
    "# Modeling"
   ]
  },
  {
   "cell_type": "code",
   "execution_count": 7,
   "metadata": {},
   "outputs": [],
   "source": [
    "pipeline = get_pipeline(model=RandomForestRegressor(n_estimators=5, n_jobs=4), \n",
    "                        x=train_df.drop(columns=['Sales']))"
   ]
  },
  {
   "cell_type": "code",
   "execution_count": 8,
   "metadata": {},
   "outputs": [
    {
     "data": {
      "text/html": [
       "<style>#sk-container-id-2 {color: black;background-color: white;}#sk-container-id-2 pre{padding: 0;}#sk-container-id-2 div.sk-toggleable {background-color: white;}#sk-container-id-2 label.sk-toggleable__label {cursor: pointer;display: block;width: 100%;margin-bottom: 0;padding: 0.3em;box-sizing: border-box;text-align: center;}#sk-container-id-2 label.sk-toggleable__label-arrow:before {content: \"▸\";float: left;margin-right: 0.25em;color: #696969;}#sk-container-id-2 label.sk-toggleable__label-arrow:hover:before {color: black;}#sk-container-id-2 div.sk-estimator:hover label.sk-toggleable__label-arrow:before {color: black;}#sk-container-id-2 div.sk-toggleable__content {max-height: 0;max-width: 0;overflow: hidden;text-align: left;background-color: #f0f8ff;}#sk-container-id-2 div.sk-toggleable__content pre {margin: 0.2em;color: black;border-radius: 0.25em;background-color: #f0f8ff;}#sk-container-id-2 input.sk-toggleable__control:checked~div.sk-toggleable__content {max-height: 200px;max-width: 100%;overflow: auto;}#sk-container-id-2 input.sk-toggleable__control:checked~label.sk-toggleable__label-arrow:before {content: \"▾\";}#sk-container-id-2 div.sk-estimator input.sk-toggleable__control:checked~label.sk-toggleable__label {background-color: #d4ebff;}#sk-container-id-2 div.sk-label input.sk-toggleable__control:checked~label.sk-toggleable__label {background-color: #d4ebff;}#sk-container-id-2 input.sk-hidden--visually {border: 0;clip: rect(1px 1px 1px 1px);clip: rect(1px, 1px, 1px, 1px);height: 1px;margin: -1px;overflow: hidden;padding: 0;position: absolute;width: 1px;}#sk-container-id-2 div.sk-estimator {font-family: monospace;background-color: #f0f8ff;border: 1px dotted black;border-radius: 0.25em;box-sizing: border-box;margin-bottom: 0.5em;}#sk-container-id-2 div.sk-estimator:hover {background-color: #d4ebff;}#sk-container-id-2 div.sk-parallel-item::after {content: \"\";width: 100%;border-bottom: 1px solid gray;flex-grow: 1;}#sk-container-id-2 div.sk-label:hover label.sk-toggleable__label {background-color: #d4ebff;}#sk-container-id-2 div.sk-serial::before {content: \"\";position: absolute;border-left: 1px solid gray;box-sizing: border-box;top: 0;bottom: 0;left: 50%;z-index: 0;}#sk-container-id-2 div.sk-serial {display: flex;flex-direction: column;align-items: center;background-color: white;padding-right: 0.2em;padding-left: 0.2em;position: relative;}#sk-container-id-2 div.sk-item {position: relative;z-index: 1;}#sk-container-id-2 div.sk-parallel {display: flex;align-items: stretch;justify-content: center;background-color: white;position: relative;}#sk-container-id-2 div.sk-item::before, #sk-container-id-2 div.sk-parallel-item::before {content: \"\";position: absolute;border-left: 1px solid gray;box-sizing: border-box;top: 0;bottom: 0;left: 50%;z-index: -1;}#sk-container-id-2 div.sk-parallel-item {display: flex;flex-direction: column;z-index: 1;position: relative;background-color: white;}#sk-container-id-2 div.sk-parallel-item:first-child::after {align-self: flex-end;width: 50%;}#sk-container-id-2 div.sk-parallel-item:last-child::after {align-self: flex-start;width: 50%;}#sk-container-id-2 div.sk-parallel-item:only-child::after {width: 0;}#sk-container-id-2 div.sk-dashed-wrapped {border: 1px dashed gray;margin: 0 0.4em 0.5em 0.4em;box-sizing: border-box;padding-bottom: 0.4em;background-color: white;}#sk-container-id-2 div.sk-label label {font-family: monospace;font-weight: bold;display: inline-block;line-height: 1.2em;}#sk-container-id-2 div.sk-label-container {text-align: center;}#sk-container-id-2 div.sk-container {/* jupyter's `normalize.less` sets `[hidden] { display: none; }` but bootstrap.min.css set `[hidden] { display: none !important; }` so we also need the `!important` here to be able to override the default hidden behavior on the sphinx rendered scikit-learn.org. See: https://github.com/scikit-learn/scikit-learn/issues/21755 */display: inline-block !important;position: relative;}#sk-container-id-2 div.sk-text-repr-fallback {display: none;}</style><div id=\"sk-container-id-2\" class=\"sk-top-container\"><div class=\"sk-text-repr-fallback\"><pre>TrainingPipeline(steps=[(&#x27;preprocessor&#x27;,\n",
       "                         ColumnTransformer(transformers=[(&#x27;num&#x27;,\n",
       "                                                          Pipeline(steps=[(&#x27;scale&#x27;,\n",
       "                                                                           StandardScaler())]),\n",
       "                                                          [&#x27;Store&#x27;, &#x27;DayOfWeek&#x27;,\n",
       "                                                           &#x27;Customers&#x27;, &#x27;Open&#x27;,\n",
       "                                                           &#x27;Promo&#x27;,\n",
       "                                                           &#x27;SchoolHoliday&#x27;,\n",
       "                                                           &#x27;CompetitionDistance&#x27;,\n",
       "                                                           &#x27;CompetitionOpenSinceYear&#x27;,\n",
       "                                                           &#x27;Promo2&#x27;,\n",
       "                                                           &#x27;Promo2SinceWeek&#x27;,\n",
       "                                                           &#x27;Promo2SinceYear&#x27;,\n",
       "                                                           &#x27;DistanceToNextHoliday&#x27;,\n",
       "                                                           &#x27;DistanceFromPrevHoliday&#x27;,\n",
       "                                                           &#x27;Year&#x27;, &#x27;Month&#x27;,\n",
       "                                                           &#x27;We...\n",
       "                                                                                                                        &#x27;is_month_end&#x27;,\n",
       "                                                                                                                        &#x27;is_month_start&#x27;,\n",
       "                                                                                                                        &#x27;is_quarter_end&#x27;,\n",
       "                                                                                                                        &#x27;is_quarter_start&#x27;,\n",
       "                                                                                                                        &#x27;is_year_end&#x27;,\n",
       "                                                                                                                        &#x27;is_year_start&#x27;]}))]),\n",
       "                                                          [&#x27;StateHoliday&#x27;,\n",
       "                                                           &#x27;StoreType&#x27;,\n",
       "                                                           &#x27;Assortment&#x27;,\n",
       "                                                           &#x27;CompetitionOpenSinceMonth&#x27;,\n",
       "                                                           &#x27;PromoInterval&#x27;,\n",
       "                                                           &#x27;is_month_end&#x27;,\n",
       "                                                           &#x27;is_month_start&#x27;,\n",
       "                                                           &#x27;is_quarter_end&#x27;,\n",
       "                                                           &#x27;is_quarter_start&#x27;,\n",
       "                                                           &#x27;is_year_end&#x27;,\n",
       "                                                           &#x27;is_year_start&#x27;])])),\n",
       "                        (&#x27;model&#x27;,\n",
       "                         RandomForestRegressor(n_estimators=5, n_jobs=4))])</pre><b>In a Jupyter environment, please rerun this cell to show the HTML representation or trust the notebook. <br />On GitHub, the HTML representation is unable to render, please try loading this page with nbviewer.org.</b></div><div class=\"sk-container\" hidden><div class=\"sk-item sk-dashed-wrapped\"><div class=\"sk-label-container\"><div class=\"sk-label sk-toggleable\"><input class=\"sk-toggleable__control sk-hidden--visually\" id=\"sk-estimator-id-8\" type=\"checkbox\" ><label for=\"sk-estimator-id-8\" class=\"sk-toggleable__label sk-toggleable__label-arrow\">TrainingPipeline</label><div class=\"sk-toggleable__content\"><pre>TrainingPipeline(steps=[(&#x27;preprocessor&#x27;,\n",
       "                         ColumnTransformer(transformers=[(&#x27;num&#x27;,\n",
       "                                                          Pipeline(steps=[(&#x27;scale&#x27;,\n",
       "                                                                           StandardScaler())]),\n",
       "                                                          [&#x27;Store&#x27;, &#x27;DayOfWeek&#x27;,\n",
       "                                                           &#x27;Customers&#x27;, &#x27;Open&#x27;,\n",
       "                                                           &#x27;Promo&#x27;,\n",
       "                                                           &#x27;SchoolHoliday&#x27;,\n",
       "                                                           &#x27;CompetitionDistance&#x27;,\n",
       "                                                           &#x27;CompetitionOpenSinceYear&#x27;,\n",
       "                                                           &#x27;Promo2&#x27;,\n",
       "                                                           &#x27;Promo2SinceWeek&#x27;,\n",
       "                                                           &#x27;Promo2SinceYear&#x27;,\n",
       "                                                           &#x27;DistanceToNextHoliday&#x27;,\n",
       "                                                           &#x27;DistanceFromPrevHoliday&#x27;,\n",
       "                                                           &#x27;Year&#x27;, &#x27;Month&#x27;,\n",
       "                                                           &#x27;We...\n",
       "                                                                                                                        &#x27;is_month_end&#x27;,\n",
       "                                                                                                                        &#x27;is_month_start&#x27;,\n",
       "                                                                                                                        &#x27;is_quarter_end&#x27;,\n",
       "                                                                                                                        &#x27;is_quarter_start&#x27;,\n",
       "                                                                                                                        &#x27;is_year_end&#x27;,\n",
       "                                                                                                                        &#x27;is_year_start&#x27;]}))]),\n",
       "                                                          [&#x27;StateHoliday&#x27;,\n",
       "                                                           &#x27;StoreType&#x27;,\n",
       "                                                           &#x27;Assortment&#x27;,\n",
       "                                                           &#x27;CompetitionOpenSinceMonth&#x27;,\n",
       "                                                           &#x27;PromoInterval&#x27;,\n",
       "                                                           &#x27;is_month_end&#x27;,\n",
       "                                                           &#x27;is_month_start&#x27;,\n",
       "                                                           &#x27;is_quarter_end&#x27;,\n",
       "                                                           &#x27;is_quarter_start&#x27;,\n",
       "                                                           &#x27;is_year_end&#x27;,\n",
       "                                                           &#x27;is_year_start&#x27;])])),\n",
       "                        (&#x27;model&#x27;,\n",
       "                         RandomForestRegressor(n_estimators=5, n_jobs=4))])</pre></div></div></div><div class=\"sk-serial\"><div class=\"sk-item sk-dashed-wrapped\"><div class=\"sk-label-container\"><div class=\"sk-label sk-toggleable\"><input class=\"sk-toggleable__control sk-hidden--visually\" id=\"sk-estimator-id-9\" type=\"checkbox\" ><label for=\"sk-estimator-id-9\" class=\"sk-toggleable__label sk-toggleable__label-arrow\">preprocessor: ColumnTransformer</label><div class=\"sk-toggleable__content\"><pre>ColumnTransformer(transformers=[(&#x27;num&#x27;,\n",
       "                                 Pipeline(steps=[(&#x27;scale&#x27;, StandardScaler())]),\n",
       "                                 [&#x27;Store&#x27;, &#x27;DayOfWeek&#x27;, &#x27;Customers&#x27;, &#x27;Open&#x27;,\n",
       "                                  &#x27;Promo&#x27;, &#x27;SchoolHoliday&#x27;,\n",
       "                                  &#x27;CompetitionDistance&#x27;,\n",
       "                                  &#x27;CompetitionOpenSinceYear&#x27;, &#x27;Promo2&#x27;,\n",
       "                                  &#x27;Promo2SinceWeek&#x27;, &#x27;Promo2SinceYear&#x27;,\n",
       "                                  &#x27;DistanceToNextHoliday&#x27;,\n",
       "                                  &#x27;DistanceFromPrevHoliday&#x27;, &#x27;Year&#x27;, &#x27;Month&#x27;,\n",
       "                                  &#x27;WeekOfYear&#x27;]),\n",
       "                                (&#x27;cat&#x27;,\n",
       "                                 Pipeline(steps=[(&#x27;cat...\n",
       "                                                                                               &#x27;StoreType&#x27;,\n",
       "                                                                                               &#x27;Assortment&#x27;,\n",
       "                                                                                               &#x27;CompetitionOpenSinceMonth&#x27;,\n",
       "                                                                                               &#x27;PromoInterval&#x27;,\n",
       "                                                                                               &#x27;is_month_end&#x27;,\n",
       "                                                                                               &#x27;is_month_start&#x27;,\n",
       "                                                                                               &#x27;is_quarter_end&#x27;,\n",
       "                                                                                               &#x27;is_quarter_start&#x27;,\n",
       "                                                                                               &#x27;is_year_end&#x27;,\n",
       "                                                                                               &#x27;is_year_start&#x27;]}))]),\n",
       "                                 [&#x27;StateHoliday&#x27;, &#x27;StoreType&#x27;, &#x27;Assortment&#x27;,\n",
       "                                  &#x27;CompetitionOpenSinceMonth&#x27;, &#x27;PromoInterval&#x27;,\n",
       "                                  &#x27;is_month_end&#x27;, &#x27;is_month_start&#x27;,\n",
       "                                  &#x27;is_quarter_end&#x27;, &#x27;is_quarter_start&#x27;,\n",
       "                                  &#x27;is_year_end&#x27;, &#x27;is_year_start&#x27;])])</pre></div></div></div><div class=\"sk-parallel\"><div class=\"sk-parallel-item\"><div class=\"sk-item\"><div class=\"sk-label-container\"><div class=\"sk-label sk-toggleable\"><input class=\"sk-toggleable__control sk-hidden--visually\" id=\"sk-estimator-id-10\" type=\"checkbox\" ><label for=\"sk-estimator-id-10\" class=\"sk-toggleable__label sk-toggleable__label-arrow\">num</label><div class=\"sk-toggleable__content\"><pre>[&#x27;Store&#x27;, &#x27;DayOfWeek&#x27;, &#x27;Customers&#x27;, &#x27;Open&#x27;, &#x27;Promo&#x27;, &#x27;SchoolHoliday&#x27;, &#x27;CompetitionDistance&#x27;, &#x27;CompetitionOpenSinceYear&#x27;, &#x27;Promo2&#x27;, &#x27;Promo2SinceWeek&#x27;, &#x27;Promo2SinceYear&#x27;, &#x27;DistanceToNextHoliday&#x27;, &#x27;DistanceFromPrevHoliday&#x27;, &#x27;Year&#x27;, &#x27;Month&#x27;, &#x27;WeekOfYear&#x27;]</pre></div></div></div><div class=\"sk-serial\"><div class=\"sk-item\"><div class=\"sk-serial\"><div class=\"sk-item\"><div class=\"sk-estimator sk-toggleable\"><input class=\"sk-toggleable__control sk-hidden--visually\" id=\"sk-estimator-id-11\" type=\"checkbox\" ><label for=\"sk-estimator-id-11\" class=\"sk-toggleable__label sk-toggleable__label-arrow\">StandardScaler</label><div class=\"sk-toggleable__content\"><pre>StandardScaler()</pre></div></div></div></div></div></div></div></div><div class=\"sk-parallel-item\"><div class=\"sk-item\"><div class=\"sk-label-container\"><div class=\"sk-label sk-toggleable\"><input class=\"sk-toggleable__control sk-hidden--visually\" id=\"sk-estimator-id-12\" type=\"checkbox\" ><label for=\"sk-estimator-id-12\" class=\"sk-toggleable__label sk-toggleable__label-arrow\">cat</label><div class=\"sk-toggleable__content\"><pre>[&#x27;StateHoliday&#x27;, &#x27;StoreType&#x27;, &#x27;Assortment&#x27;, &#x27;CompetitionOpenSinceMonth&#x27;, &#x27;PromoInterval&#x27;, &#x27;is_month_end&#x27;, &#x27;is_month_start&#x27;, &#x27;is_quarter_end&#x27;, &#x27;is_quarter_start&#x27;, &#x27;is_year_end&#x27;, &#x27;is_year_start&#x27;]</pre></div></div></div><div class=\"sk-serial\"><div class=\"sk-item\"><div class=\"sk-serial\"><div class=\"sk-item\"><div class=\"sk-estimator sk-toggleable\"><input class=\"sk-toggleable__control sk-hidden--visually\" id=\"sk-estimator-id-13\" type=\"checkbox\" ><label for=\"sk-estimator-id-13\" class=\"sk-toggleable__label sk-toggleable__label-arrow\">FunctionTransformer</label><div class=\"sk-toggleable__content\"><pre>FunctionTransformer(func=&lt;function label_encoder at 0x7f8c2376dea0&gt;,\n",
       "                    kw_args={&#x27;cat_columns&#x27;: [&#x27;StateHoliday&#x27;, &#x27;StoreType&#x27;,\n",
       "                                             &#x27;Assortment&#x27;,\n",
       "                                             &#x27;CompetitionOpenSinceMonth&#x27;,\n",
       "                                             &#x27;PromoInterval&#x27;, &#x27;is_month_end&#x27;,\n",
       "                                             &#x27;is_month_start&#x27;, &#x27;is_quarter_end&#x27;,\n",
       "                                             &#x27;is_quarter_start&#x27;, &#x27;is_year_end&#x27;,\n",
       "                                             &#x27;is_year_start&#x27;]})</pre></div></div></div></div></div></div></div></div></div></div><div class=\"sk-item\"><div class=\"sk-estimator sk-toggleable\"><input class=\"sk-toggleable__control sk-hidden--visually\" id=\"sk-estimator-id-14\" type=\"checkbox\" ><label for=\"sk-estimator-id-14\" class=\"sk-toggleable__label sk-toggleable__label-arrow\">RandomForestRegressor</label><div class=\"sk-toggleable__content\"><pre>RandomForestRegressor(n_estimators=5, n_jobs=4)</pre></div></div></div></div></div></div></div>"
      ],
      "text/plain": [
       "TrainingPipeline(steps=[('preprocessor',\n",
       "                         ColumnTransformer(transformers=[('num',\n",
       "                                                          Pipeline(steps=[('scale',\n",
       "                                                                           StandardScaler())]),\n",
       "                                                          ['Store', 'DayOfWeek',\n",
       "                                                           'Customers', 'Open',\n",
       "                                                           'Promo',\n",
       "                                                           'SchoolHoliday',\n",
       "                                                           'CompetitionDistance',\n",
       "                                                           'CompetitionOpenSinceYear',\n",
       "                                                           'Promo2',\n",
       "                                                           'Promo2SinceWeek',\n",
       "                                                           'Promo2SinceYear',\n",
       "                                                           'DistanceToNextHoliday',\n",
       "                                                           'DistanceFromPrevHoliday',\n",
       "                                                           'Year', 'Month',\n",
       "                                                           'We...\n",
       "                                                                                                                        'is_month_end',\n",
       "                                                                                                                        'is_month_start',\n",
       "                                                                                                                        'is_quarter_end',\n",
       "                                                                                                                        'is_quarter_start',\n",
       "                                                                                                                        'is_year_end',\n",
       "                                                                                                                        'is_year_start']}))]),\n",
       "                                                          ['StateHoliday',\n",
       "                                                           'StoreType',\n",
       "                                                           'Assortment',\n",
       "                                                           'CompetitionOpenSinceMonth',\n",
       "                                                           'PromoInterval',\n",
       "                                                           'is_month_end',\n",
       "                                                           'is_month_start',\n",
       "                                                           'is_quarter_end',\n",
       "                                                           'is_quarter_start',\n",
       "                                                           'is_year_end',\n",
       "                                                           'is_year_start'])])),\n",
       "                        ('model',\n",
       "                         RandomForestRegressor(n_estimators=5, n_jobs=4))])"
      ]
     },
     "execution_count": 8,
     "metadata": {},
     "output_type": "execute_result"
    }
   ],
   "source": [
    "pipeline"
   ]
  },
  {
   "cell_type": "markdown",
   "metadata": {},
   "source": [
    "Specifying the n_jobs for the model object makes the training a lot smoother. Before I started to use it, my editor would crash since I was running out of ram."
   ]
  },
  {
   "cell_type": "code",
   "execution_count": 16,
   "metadata": {},
   "outputs": [
    {
     "data": {
      "text/html": [
       "<style>#sk-container-id-4 {color: black;background-color: white;}#sk-container-id-4 pre{padding: 0;}#sk-container-id-4 div.sk-toggleable {background-color: white;}#sk-container-id-4 label.sk-toggleable__label {cursor: pointer;display: block;width: 100%;margin-bottom: 0;padding: 0.3em;box-sizing: border-box;text-align: center;}#sk-container-id-4 label.sk-toggleable__label-arrow:before {content: \"▸\";float: left;margin-right: 0.25em;color: #696969;}#sk-container-id-4 label.sk-toggleable__label-arrow:hover:before {color: black;}#sk-container-id-4 div.sk-estimator:hover label.sk-toggleable__label-arrow:before {color: black;}#sk-container-id-4 div.sk-toggleable__content {max-height: 0;max-width: 0;overflow: hidden;text-align: left;background-color: #f0f8ff;}#sk-container-id-4 div.sk-toggleable__content pre {margin: 0.2em;color: black;border-radius: 0.25em;background-color: #f0f8ff;}#sk-container-id-4 input.sk-toggleable__control:checked~div.sk-toggleable__content {max-height: 200px;max-width: 100%;overflow: auto;}#sk-container-id-4 input.sk-toggleable__control:checked~label.sk-toggleable__label-arrow:before {content: \"▾\";}#sk-container-id-4 div.sk-estimator input.sk-toggleable__control:checked~label.sk-toggleable__label {background-color: #d4ebff;}#sk-container-id-4 div.sk-label input.sk-toggleable__control:checked~label.sk-toggleable__label {background-color: #d4ebff;}#sk-container-id-4 input.sk-hidden--visually {border: 0;clip: rect(1px 1px 1px 1px);clip: rect(1px, 1px, 1px, 1px);height: 1px;margin: -1px;overflow: hidden;padding: 0;position: absolute;width: 1px;}#sk-container-id-4 div.sk-estimator {font-family: monospace;background-color: #f0f8ff;border: 1px dotted black;border-radius: 0.25em;box-sizing: border-box;margin-bottom: 0.5em;}#sk-container-id-4 div.sk-estimator:hover {background-color: #d4ebff;}#sk-container-id-4 div.sk-parallel-item::after {content: \"\";width: 100%;border-bottom: 1px solid gray;flex-grow: 1;}#sk-container-id-4 div.sk-label:hover label.sk-toggleable__label {background-color: #d4ebff;}#sk-container-id-4 div.sk-serial::before {content: \"\";position: absolute;border-left: 1px solid gray;box-sizing: border-box;top: 0;bottom: 0;left: 50%;z-index: 0;}#sk-container-id-4 div.sk-serial {display: flex;flex-direction: column;align-items: center;background-color: white;padding-right: 0.2em;padding-left: 0.2em;position: relative;}#sk-container-id-4 div.sk-item {position: relative;z-index: 1;}#sk-container-id-4 div.sk-parallel {display: flex;align-items: stretch;justify-content: center;background-color: white;position: relative;}#sk-container-id-4 div.sk-item::before, #sk-container-id-4 div.sk-parallel-item::before {content: \"\";position: absolute;border-left: 1px solid gray;box-sizing: border-box;top: 0;bottom: 0;left: 50%;z-index: -1;}#sk-container-id-4 div.sk-parallel-item {display: flex;flex-direction: column;z-index: 1;position: relative;background-color: white;}#sk-container-id-4 div.sk-parallel-item:first-child::after {align-self: flex-end;width: 50%;}#sk-container-id-4 div.sk-parallel-item:last-child::after {align-self: flex-start;width: 50%;}#sk-container-id-4 div.sk-parallel-item:only-child::after {width: 0;}#sk-container-id-4 div.sk-dashed-wrapped {border: 1px dashed gray;margin: 0 0.4em 0.5em 0.4em;box-sizing: border-box;padding-bottom: 0.4em;background-color: white;}#sk-container-id-4 div.sk-label label {font-family: monospace;font-weight: bold;display: inline-block;line-height: 1.2em;}#sk-container-id-4 div.sk-label-container {text-align: center;}#sk-container-id-4 div.sk-container {/* jupyter's `normalize.less` sets `[hidden] { display: none; }` but bootstrap.min.css set `[hidden] { display: none !important; }` so we also need the `!important` here to be able to override the default hidden behavior on the sphinx rendered scikit-learn.org. See: https://github.com/scikit-learn/scikit-learn/issues/21755 */display: inline-block !important;position: relative;}#sk-container-id-4 div.sk-text-repr-fallback {display: none;}</style><div id=\"sk-container-id-4\" class=\"sk-top-container\"><div class=\"sk-text-repr-fallback\"><pre>TrainingPipeline(steps=[(&#x27;preprocessor&#x27;,\n",
       "                         ColumnTransformer(transformers=[(&#x27;num&#x27;,\n",
       "                                                          Pipeline(steps=[(&#x27;scale&#x27;,\n",
       "                                                                           StandardScaler())]),\n",
       "                                                          [&#x27;Store&#x27;, &#x27;DayOfWeek&#x27;,\n",
       "                                                           &#x27;Customers&#x27;, &#x27;Open&#x27;,\n",
       "                                                           &#x27;Promo&#x27;,\n",
       "                                                           &#x27;SchoolHoliday&#x27;,\n",
       "                                                           &#x27;CompetitionDistance&#x27;,\n",
       "                                                           &#x27;CompetitionOpenSinceYear&#x27;,\n",
       "                                                           &#x27;Promo2&#x27;,\n",
       "                                                           &#x27;Promo2SinceWeek&#x27;,\n",
       "                                                           &#x27;Promo2SinceYear&#x27;,\n",
       "                                                           &#x27;DistanceToNextHoliday&#x27;,\n",
       "                                                           &#x27;DistanceFromPrevHoliday&#x27;,\n",
       "                                                           &#x27;Year&#x27;, &#x27;Month&#x27;,\n",
       "                                                           &#x27;We...\n",
       "                                                                                                                        &#x27;is_month_end&#x27;,\n",
       "                                                                                                                        &#x27;is_month_start&#x27;,\n",
       "                                                                                                                        &#x27;is_quarter_end&#x27;,\n",
       "                                                                                                                        &#x27;is_quarter_start&#x27;,\n",
       "                                                                                                                        &#x27;is_year_end&#x27;,\n",
       "                                                                                                                        &#x27;is_year_start&#x27;]}))]),\n",
       "                                                          [&#x27;StateHoliday&#x27;,\n",
       "                                                           &#x27;StoreType&#x27;,\n",
       "                                                           &#x27;Assortment&#x27;,\n",
       "                                                           &#x27;CompetitionOpenSinceMonth&#x27;,\n",
       "                                                           &#x27;PromoInterval&#x27;,\n",
       "                                                           &#x27;is_month_end&#x27;,\n",
       "                                                           &#x27;is_month_start&#x27;,\n",
       "                                                           &#x27;is_quarter_end&#x27;,\n",
       "                                                           &#x27;is_quarter_start&#x27;,\n",
       "                                                           &#x27;is_year_end&#x27;,\n",
       "                                                           &#x27;is_year_start&#x27;])])),\n",
       "                        (&#x27;model&#x27;,\n",
       "                         RandomForestRegressor(n_estimators=5, n_jobs=4))])</pre><b>In a Jupyter environment, please rerun this cell to show the HTML representation or trust the notebook. <br />On GitHub, the HTML representation is unable to render, please try loading this page with nbviewer.org.</b></div><div class=\"sk-container\" hidden><div class=\"sk-item sk-dashed-wrapped\"><div class=\"sk-label-container\"><div class=\"sk-label sk-toggleable\"><input class=\"sk-toggleable__control sk-hidden--visually\" id=\"sk-estimator-id-22\" type=\"checkbox\" ><label for=\"sk-estimator-id-22\" class=\"sk-toggleable__label sk-toggleable__label-arrow\">TrainingPipeline</label><div class=\"sk-toggleable__content\"><pre>TrainingPipeline(steps=[(&#x27;preprocessor&#x27;,\n",
       "                         ColumnTransformer(transformers=[(&#x27;num&#x27;,\n",
       "                                                          Pipeline(steps=[(&#x27;scale&#x27;,\n",
       "                                                                           StandardScaler())]),\n",
       "                                                          [&#x27;Store&#x27;, &#x27;DayOfWeek&#x27;,\n",
       "                                                           &#x27;Customers&#x27;, &#x27;Open&#x27;,\n",
       "                                                           &#x27;Promo&#x27;,\n",
       "                                                           &#x27;SchoolHoliday&#x27;,\n",
       "                                                           &#x27;CompetitionDistance&#x27;,\n",
       "                                                           &#x27;CompetitionOpenSinceYear&#x27;,\n",
       "                                                           &#x27;Promo2&#x27;,\n",
       "                                                           &#x27;Promo2SinceWeek&#x27;,\n",
       "                                                           &#x27;Promo2SinceYear&#x27;,\n",
       "                                                           &#x27;DistanceToNextHoliday&#x27;,\n",
       "                                                           &#x27;DistanceFromPrevHoliday&#x27;,\n",
       "                                                           &#x27;Year&#x27;, &#x27;Month&#x27;,\n",
       "                                                           &#x27;We...\n",
       "                                                                                                                        &#x27;is_month_end&#x27;,\n",
       "                                                                                                                        &#x27;is_month_start&#x27;,\n",
       "                                                                                                                        &#x27;is_quarter_end&#x27;,\n",
       "                                                                                                                        &#x27;is_quarter_start&#x27;,\n",
       "                                                                                                                        &#x27;is_year_end&#x27;,\n",
       "                                                                                                                        &#x27;is_year_start&#x27;]}))]),\n",
       "                                                          [&#x27;StateHoliday&#x27;,\n",
       "                                                           &#x27;StoreType&#x27;,\n",
       "                                                           &#x27;Assortment&#x27;,\n",
       "                                                           &#x27;CompetitionOpenSinceMonth&#x27;,\n",
       "                                                           &#x27;PromoInterval&#x27;,\n",
       "                                                           &#x27;is_month_end&#x27;,\n",
       "                                                           &#x27;is_month_start&#x27;,\n",
       "                                                           &#x27;is_quarter_end&#x27;,\n",
       "                                                           &#x27;is_quarter_start&#x27;,\n",
       "                                                           &#x27;is_year_end&#x27;,\n",
       "                                                           &#x27;is_year_start&#x27;])])),\n",
       "                        (&#x27;model&#x27;,\n",
       "                         RandomForestRegressor(n_estimators=5, n_jobs=4))])</pre></div></div></div><div class=\"sk-serial\"><div class=\"sk-item sk-dashed-wrapped\"><div class=\"sk-label-container\"><div class=\"sk-label sk-toggleable\"><input class=\"sk-toggleable__control sk-hidden--visually\" id=\"sk-estimator-id-23\" type=\"checkbox\" ><label for=\"sk-estimator-id-23\" class=\"sk-toggleable__label sk-toggleable__label-arrow\">preprocessor: ColumnTransformer</label><div class=\"sk-toggleable__content\"><pre>ColumnTransformer(transformers=[(&#x27;num&#x27;,\n",
       "                                 Pipeline(steps=[(&#x27;scale&#x27;, StandardScaler())]),\n",
       "                                 [&#x27;Store&#x27;, &#x27;DayOfWeek&#x27;, &#x27;Customers&#x27;, &#x27;Open&#x27;,\n",
       "                                  &#x27;Promo&#x27;, &#x27;SchoolHoliday&#x27;,\n",
       "                                  &#x27;CompetitionDistance&#x27;,\n",
       "                                  &#x27;CompetitionOpenSinceYear&#x27;, &#x27;Promo2&#x27;,\n",
       "                                  &#x27;Promo2SinceWeek&#x27;, &#x27;Promo2SinceYear&#x27;,\n",
       "                                  &#x27;DistanceToNextHoliday&#x27;,\n",
       "                                  &#x27;DistanceFromPrevHoliday&#x27;, &#x27;Year&#x27;, &#x27;Month&#x27;,\n",
       "                                  &#x27;WeekOfYear&#x27;]),\n",
       "                                (&#x27;cat&#x27;,\n",
       "                                 Pipeline(steps=[(&#x27;cat...\n",
       "                                                                                               &#x27;StoreType&#x27;,\n",
       "                                                                                               &#x27;Assortment&#x27;,\n",
       "                                                                                               &#x27;CompetitionOpenSinceMonth&#x27;,\n",
       "                                                                                               &#x27;PromoInterval&#x27;,\n",
       "                                                                                               &#x27;is_month_end&#x27;,\n",
       "                                                                                               &#x27;is_month_start&#x27;,\n",
       "                                                                                               &#x27;is_quarter_end&#x27;,\n",
       "                                                                                               &#x27;is_quarter_start&#x27;,\n",
       "                                                                                               &#x27;is_year_end&#x27;,\n",
       "                                                                                               &#x27;is_year_start&#x27;]}))]),\n",
       "                                 [&#x27;StateHoliday&#x27;, &#x27;StoreType&#x27;, &#x27;Assortment&#x27;,\n",
       "                                  &#x27;CompetitionOpenSinceMonth&#x27;, &#x27;PromoInterval&#x27;,\n",
       "                                  &#x27;is_month_end&#x27;, &#x27;is_month_start&#x27;,\n",
       "                                  &#x27;is_quarter_end&#x27;, &#x27;is_quarter_start&#x27;,\n",
       "                                  &#x27;is_year_end&#x27;, &#x27;is_year_start&#x27;])])</pre></div></div></div><div class=\"sk-parallel\"><div class=\"sk-parallel-item\"><div class=\"sk-item\"><div class=\"sk-label-container\"><div class=\"sk-label sk-toggleable\"><input class=\"sk-toggleable__control sk-hidden--visually\" id=\"sk-estimator-id-24\" type=\"checkbox\" ><label for=\"sk-estimator-id-24\" class=\"sk-toggleable__label sk-toggleable__label-arrow\">num</label><div class=\"sk-toggleable__content\"><pre>[&#x27;Store&#x27;, &#x27;DayOfWeek&#x27;, &#x27;Customers&#x27;, &#x27;Open&#x27;, &#x27;Promo&#x27;, &#x27;SchoolHoliday&#x27;, &#x27;CompetitionDistance&#x27;, &#x27;CompetitionOpenSinceYear&#x27;, &#x27;Promo2&#x27;, &#x27;Promo2SinceWeek&#x27;, &#x27;Promo2SinceYear&#x27;, &#x27;DistanceToNextHoliday&#x27;, &#x27;DistanceFromPrevHoliday&#x27;, &#x27;Year&#x27;, &#x27;Month&#x27;, &#x27;WeekOfYear&#x27;]</pre></div></div></div><div class=\"sk-serial\"><div class=\"sk-item\"><div class=\"sk-serial\"><div class=\"sk-item\"><div class=\"sk-estimator sk-toggleable\"><input class=\"sk-toggleable__control sk-hidden--visually\" id=\"sk-estimator-id-25\" type=\"checkbox\" ><label for=\"sk-estimator-id-25\" class=\"sk-toggleable__label sk-toggleable__label-arrow\">StandardScaler</label><div class=\"sk-toggleable__content\"><pre>StandardScaler()</pre></div></div></div></div></div></div></div></div><div class=\"sk-parallel-item\"><div class=\"sk-item\"><div class=\"sk-label-container\"><div class=\"sk-label sk-toggleable\"><input class=\"sk-toggleable__control sk-hidden--visually\" id=\"sk-estimator-id-26\" type=\"checkbox\" ><label for=\"sk-estimator-id-26\" class=\"sk-toggleable__label sk-toggleable__label-arrow\">cat</label><div class=\"sk-toggleable__content\"><pre>[&#x27;StateHoliday&#x27;, &#x27;StoreType&#x27;, &#x27;Assortment&#x27;, &#x27;CompetitionOpenSinceMonth&#x27;, &#x27;PromoInterval&#x27;, &#x27;is_month_end&#x27;, &#x27;is_month_start&#x27;, &#x27;is_quarter_end&#x27;, &#x27;is_quarter_start&#x27;, &#x27;is_year_end&#x27;, &#x27;is_year_start&#x27;]</pre></div></div></div><div class=\"sk-serial\"><div class=\"sk-item\"><div class=\"sk-serial\"><div class=\"sk-item\"><div class=\"sk-estimator sk-toggleable\"><input class=\"sk-toggleable__control sk-hidden--visually\" id=\"sk-estimator-id-27\" type=\"checkbox\" ><label for=\"sk-estimator-id-27\" class=\"sk-toggleable__label sk-toggleable__label-arrow\">FunctionTransformer</label><div class=\"sk-toggleable__content\"><pre>FunctionTransformer(func=&lt;function label_encoder at 0x7f8c2376dea0&gt;,\n",
       "                    kw_args={&#x27;cat_columns&#x27;: [&#x27;StateHoliday&#x27;, &#x27;StoreType&#x27;,\n",
       "                                             &#x27;Assortment&#x27;,\n",
       "                                             &#x27;CompetitionOpenSinceMonth&#x27;,\n",
       "                                             &#x27;PromoInterval&#x27;, &#x27;is_month_end&#x27;,\n",
       "                                             &#x27;is_month_start&#x27;, &#x27;is_quarter_end&#x27;,\n",
       "                                             &#x27;is_quarter_start&#x27;, &#x27;is_year_end&#x27;,\n",
       "                                             &#x27;is_year_start&#x27;]})</pre></div></div></div></div></div></div></div></div></div></div><div class=\"sk-item\"><div class=\"sk-estimator sk-toggleable\"><input class=\"sk-toggleable__control sk-hidden--visually\" id=\"sk-estimator-id-28\" type=\"checkbox\" ><label for=\"sk-estimator-id-28\" class=\"sk-toggleable__label sk-toggleable__label-arrow\">RandomForestRegressor</label><div class=\"sk-toggleable__content\"><pre>RandomForestRegressor(n_estimators=5, n_jobs=4)</pre></div></div></div></div></div></div></div>"
      ],
      "text/plain": [
       "TrainingPipeline(steps=[('preprocessor',\n",
       "                         ColumnTransformer(transformers=[('num',\n",
       "                                                          Pipeline(steps=[('scale',\n",
       "                                                                           StandardScaler())]),\n",
       "                                                          ['Store', 'DayOfWeek',\n",
       "                                                           'Customers', 'Open',\n",
       "                                                           'Promo',\n",
       "                                                           'SchoolHoliday',\n",
       "                                                           'CompetitionDistance',\n",
       "                                                           'CompetitionOpenSinceYear',\n",
       "                                                           'Promo2',\n",
       "                                                           'Promo2SinceWeek',\n",
       "                                                           'Promo2SinceYear',\n",
       "                                                           'DistanceToNextHoliday',\n",
       "                                                           'DistanceFromPrevHoliday',\n",
       "                                                           'Year', 'Month',\n",
       "                                                           'We...\n",
       "                                                                                                                        'is_month_end',\n",
       "                                                                                                                        'is_month_start',\n",
       "                                                                                                                        'is_quarter_end',\n",
       "                                                                                                                        'is_quarter_start',\n",
       "                                                                                                                        'is_year_end',\n",
       "                                                                                                                        'is_year_start']}))]),\n",
       "                                                          ['StateHoliday',\n",
       "                                                           'StoreType',\n",
       "                                                           'Assortment',\n",
       "                                                           'CompetitionOpenSinceMonth',\n",
       "                                                           'PromoInterval',\n",
       "                                                           'is_month_end',\n",
       "                                                           'is_month_start',\n",
       "                                                           'is_quarter_end',\n",
       "                                                           'is_quarter_start',\n",
       "                                                           'is_year_end',\n",
       "                                                           'is_year_start'])])),\n",
       "                        ('model',\n",
       "                         RandomForestRegressor(n_estimators=5, n_jobs=4))])"
      ]
     },
     "execution_count": 16,
     "metadata": {},
     "output_type": "execute_result"
    }
   ],
   "source": [
    "train, val = train_df.iloc[:int(len(train_df)*.8), :], train_df.iloc[int(len(train_df)*.8):, :]\n",
    "\n",
    "X_train = train.drop(columns=['Sales'])\n",
    "X_val = val.drop(columns=['Sales'])\n",
    "y_train = train['Sales'].values\n",
    "y_val = val['Sales'].values\n"
   ]
  },
  {
   "cell_type": "code",
   "execution_count": null,
   "metadata": {},
   "outputs": [],
   "source": [
    "\n",
    "pipeline.fit(X_train, y_train)"
   ]
  },
  {
   "cell_type": "code",
   "execution_count": 17,
   "metadata": {},
   "outputs": [],
   "source": [
    "preds = pipeline.predict(X_val)"
   ]
  },
  {
   "cell_type": "code",
   "execution_count": 18,
   "metadata": {},
   "outputs": [
    {
     "data": {
      "text/plain": [
       "<matplotlib.legend.Legend at 0x7f8c213df8b0>"
      ]
     },
     "execution_count": 18,
     "metadata": {},
     "output_type": "execute_result"
    },
    {
     "data": {
      "image/png": "[encoded data removed]",
      "text/plain": [
       "<Figure size 432x288 with 1 Axes>"
      ]
     },
     "metadata": {
      "needs_background": "light"
     },
     "output_type": "display_data"
    }
   ],
   "source": [
    "sns.lineplot(x=[*range(len(y_val))], y=y_val)\n",
    "sns.lineplot(x=[*range(len(preds))], y=preds)\n",
    "plt.legend(['test data', 'predicted'])"
   ]
  },
  {
   "cell_type": "markdown",
   "metadata": {},
   "source": [
    "This does look promising"
   ]
  },
  {
   "cell_type": "code",
   "execution_count": 24,
   "metadata": {},
   "outputs": [
    {
     "name": "stdout",
     "output_type": "stream",
     "text": [
      "The Square root of our mean Squared error is: 1366.5814306254904\n",
      "The R2-Score is: 0.8650541559076155\n"
     ]
    }
   ],
   "source": [
    "from sklearn.metrics import mean_squared_error, r2_score\n",
    "sqrt_mse = np.sqrt(mean_squared_error(y_val, preds))\n",
    "print(f\"The Square root of our mean Squared error is: {sqrt_mse}\")\n",
    "r2 = r2_score(y_val, preds)\n",
    "print(f\"The R2-Score is: {r2}\")"
   ]
  },
  {
   "cell_type": "code",
   "execution_count": 33,
   "metadata": {},
   "outputs": [
    {
     "data": {
      "text/plain": [
       "Text(0.5, 1.0, 'Sales outliers')"
      ]
     },
     "execution_count": 33,
     "metadata": {},
     "output_type": "execute_result"
    },
    {
     "data": {
      "image/png": "[encoded data removed]",
      "text/plain": [
       "<Figure size 432x288 with 1 Axes>"
      ]
     },
     "metadata": {
      "needs_background": "light"
     },
     "output_type": "display_data"
    }
   ],
   "source": [
    "sns.boxplot(data=train_df, x='Sales')\n",
    "plt.title(\"Sales outliers\")"
   ]
  },
  {
   "cell_type": "markdown",
   "metadata": {},
   "source": [
    "# Choosing a loss function\n",
    "\n",
    "Since our Sales values do have outliers, I am going to chose Mean Squared Error as my loss function. \n"
   ]
  },
  {
   "cell_type": "markdown",
   "metadata": {},
   "source": [
    "# Training with my pipeline"
   ]
  },
  {
   "cell_type": "code",
   "execution_count": 11,
   "metadata": {},
   "outputs": [
    {
     "name": "stdout",
     "output_type": "stream",
     "text": [
      "{'mse': 339312.02, 'r2': 0.98, 'mae': 374.17}\n",
      "Run params saved\n",
      "Run metrics saved\n",
      "figures saved with mlflow\n",
      "saving dict\n",
      "Run - run 1 | est-16 | depth-8 is logged to Experiment - Baseline-Regression-Model\n"
     ]
    },
    {
     "data": {
      "image/png": "[encoded data removed]",
      "text/plain": [
       "<Figure size 576x360 with 1 Axes>"
      ]
     },
     "metadata": {
      "needs_background": "light"
     },
     "output_type": "display_data"
    }
   ],
   "source": [
    "DEPTH = 8\n",
    "ESTIMATORS = 16\n",
    "mlflow.end_run()\n",
    "model = RandomForestRegressor(\n",
    "    n_estimators=DEPTH,\n",
    "    max_depth=ESTIMATORS,\n",
    "    n_jobs=4,\n",
    "    random_state=77)\n",
    "pipeline = run_train_pipeline(model=model,\n",
    "                              x=train_df,\n",
    "                              experiment_name='Baseline-Regression-Model',\n",
    "                              run_name=f'run 1 | est-{ESTIMATORS} | depth-{DEPTH}')\n",
    "\n",
    "mlflow.end_run()\n"
   ]
  },
  {
   "cell_type": "code",
   "execution_count": null,
   "metadata": {},
   "outputs": [],
   "source": []
  }
 ],
 "metadata": {
  "interpreter": {
   "hash": "9ae17cd3bd788a94320e0d05b6452017a9651648b673e7b352c316aae5e41a4d"
  },
  "kernelspec": {
   "display_name": "Python 3.10.4 ('venv': venv)",
   "language": "python",
   "name": "python3"
  },
  "language_info": {
   "codemirror_mode": {
    "name": "ipython",
    "version": 3
   },
   "file_extension": ".py",
   "mimetype": "text/x-python",
   "name": "python",
   "nbconvert_exporter": "python",
   "pygments_lexer": "ipython3",
   "version": "3.10.4"
  },
  "orig_nbformat": 4
 },
 "nbformat": 4,
 "nbformat_minor": 2
}

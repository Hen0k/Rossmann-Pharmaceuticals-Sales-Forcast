{
 "cells": [
  {
   "cell_type": "markdown",
   "metadata": {},
   "source": [
    "# Modeling with Regression models"
   ]
  },
  {
   "cell_type": "code",
   "execution_count": 1,
   "metadata": {},
   "outputs": [],
   "source": [
    "import gc\n",
    "import sys\n",
    "sys.path.append('../')\n",
    "\n",
    "import pandas as pd\n",
    "import numpy as np\n",
    "\n",
    "\n",
    "from sklearn.ensemble import RandomForestRegressor\n",
    "\n",
    "from pandas.plotting import autocorrelation_plot\n",
    "import matplotlib\n",
    "import matplotlib.pyplot as plt\n",
    "import seaborn as sns\n",
    "\n",
    "sns.set_style(\"darkgrid\")\n",
    "%matplotlib inline\n",
    "\n",
    "\n",
    "from src.fetch_data import DataLoader\n",
    "from src.exploration import Analysis\n",
    "from src.cleaning import CleanDataFrame\n",
    "from src.visualization import Plotters\n",
    "from src.processing import FeatureEngineering\n",
    "from src.modeling_pipeline import (\n",
    "    run_train_pipeline, \n",
    "    get_pipeline,\n",
    "    dvc_get_data)\n",
    "\n",
    "import os\n",
    "import mlflow\n",
    "\n",
    "\n",
    "cleaner = CleanDataFrame()\n",
    "analyzer = Analysis()\n",
    "feature_engineering = FeatureEngineering()\n",
    "plotters = Plotters(w=6, h=4)"
   ]
  },
  {
   "cell_type": "markdown",
   "metadata": {},
   "source": [
    "# Getting the data"
   ]
  },
  {
   "cell_type": "code",
   "execution_count": 2,
   "metadata": {},
   "outputs": [
    {
     "name": "stderr",
     "output_type": "stream",
     "text": [
      "/home/hat/dev-env/10Acadamy/week_3/Rossmann-Pharmaceuticals-Sales-Forcast/notebooks/../src/fetch_data.py:28: DtypeWarning: Columns (12) have mixed types. Specify dtype option on import or set low_memory=False.\n",
      "  df = pd.read_csv(io.StringIO(content), sep=\",\")\n",
      "DataLoaderLogger - INFO - DVC: CSV file read with path: data/merged/train.csv | version: merged_v3 | from: ../\n"
     ]
    }
   ],
   "source": [
    "# Then load the raw sales data\n",
    "data_path = 'data/merged/train.csv'\n",
    "version = 'merged_v3'\n",
    "repo = '../'\n",
    "\n",
    "train_df = DataLoader.dvc_get_data(data_path, version, repo)\n",
    "train_df['Date'] = pd.to_datetime(train_df['Date'])\n",
    "\n",
    "# load the test data\n",
    "# data_path = 'data/merged/test.csv'\n",
    "# version = 'merged_v3'\n",
    "# repo = '../'\n",
    "\n",
    "# test_df = DataLoader.dvc_get_data(data_path, version, repo)\n",
    "# test_df['Date'] = pd.to_datetime(test_df['Date'])"
   ]
  },
  {
   "cell_type": "markdown",
   "metadata": {},
   "source": [
    "I will add the additional columns from the feature engineering here"
   ]
  },
  {
   "cell_type": "code",
   "execution_count": 3,
   "metadata": {},
   "outputs": [
    {
     "name": "stderr",
     "output_type": "stream",
     "text": [
      "FeatureEngineeringLogger - INFO - 9 new columns added to the dataframe\n",
      "FeatureEngineeringLogger - INFO - Feature enginerring completed\n"
     ]
    }
   ],
   "source": [
    "train_df = feature_engineering.transform(train_df)\n"
   ]
  },
  {
   "cell_type": "markdown",
   "metadata": {},
   "source": [
    "In order to properly split the data, we need the timeframe for it. I will grab all the unique dates in the `Date` column"
   ]
  },
  {
   "cell_type": "code",
   "execution_count": 4,
   "metadata": {},
   "outputs": [
    {
     "name": "stdout",
     "output_type": "stream",
     "text": [
      "Starts at 2013-01-01T00:00:00.000000000 --- ends at: 2015-07-31T00:00:00.000000000\n",
      "It spans for 942 days\n"
     ]
    }
   ],
   "source": [
    "timeframe = train_df.Date.unique()\n",
    "timeframe.sort()\n",
    "print(f\"Starts at {timeframe[0]} --- ends at: {timeframe[-1]}\")\n",
    "print(f\"It spans for {len(timeframe)} days\")"
   ]
  },
  {
   "cell_type": "code",
   "execution_count": 6,
   "metadata": {},
   "outputs": [],
   "source": [
    "from src.modeling_pipeline import label_encoder\n",
    "from sklearn.preprocessing import FunctionTransformer\n",
    "from sklearn.pipeline import Pipeline\n",
    "cat_cols = cleaner.get_categorical_columns(train_df)\n",
    "pipe = Pipeline(steps = [\n",
    "                        (\"labele_categoricals\", FunctionTransformer(label_encoder, kw_args={\"cat_columns\": cat_cols})),\n",
    "\n",
    "                        ])\n",
    "\n",
    "labled = pipe.fit_transform(train_df)"
   ]
  },
  {
   "cell_type": "code",
   "execution_count": 7,
   "metadata": {},
   "outputs": [
    {
     "name": "stdout",
     "output_type": "stream",
     "text": [
      "<class 'pandas.core.frame.DataFrame'>\n",
      "RangeIndex: 1017209 entries, 0 to 1017208\n",
      "Data columns (total 29 columns):\n",
      " #   Column                     Non-Null Count    Dtype         \n",
      "---  ------                     --------------    -----         \n",
      " 0   Store                      1017209 non-null  int64         \n",
      " 1   DayOfWeek                  1017209 non-null  int64         \n",
      " 2   Date                       1017209 non-null  datetime64[ns]\n",
      " 3   Sales                      1017209 non-null  int64         \n",
      " 4   Customers                  1017209 non-null  int64         \n",
      " 5   Open                       1017209 non-null  int64         \n",
      " 6   Promo                      1017209 non-null  int64         \n",
      " 7   StateHoliday               1017209 non-null  int64         \n",
      " 8   SchoolHoliday              1017209 non-null  int64         \n",
      " 9   StoreType                  1017209 non-null  int64         \n",
      " 10  Assortment                 1017209 non-null  int64         \n",
      " 11  CompetitionDistance        1017209 non-null  float64       \n",
      " 12  CompetitionOpenSinceMonth  1017209 non-null  int64         \n",
      " 13  CompetitionOpenSinceYear   1017209 non-null  float64       \n",
      " 14  Promo2                     1017209 non-null  int64         \n",
      " 15  Promo2SinceWeek            1017209 non-null  float64       \n",
      " 16  Promo2SinceYear            1017209 non-null  float64       \n",
      " 17  PromoInterval              1017209 non-null  int64         \n",
      " 18  DistanceToNextHoliday      1017209 non-null  int64         \n",
      " 19  DistanceFromPrevHoliday    1017209 non-null  int64         \n",
      " 20  Year                       1017209 non-null  int64         \n",
      " 21  Month                      1017209 non-null  int64         \n",
      " 22  WeekOfYear                 1017209 non-null  UInt32        \n",
      " 23  is_month_end               1017209 non-null  int64         \n",
      " 24  is_month_start             1017209 non-null  int64         \n",
      " 25  is_quarter_end             1017209 non-null  int64         \n",
      " 26  is_quarter_start           1017209 non-null  int64         \n",
      " 27  is_year_end                1017209 non-null  int64         \n",
      " 28  is_year_start              1017209 non-null  int64         \n",
      "dtypes: UInt32(1), datetime64[ns](1), float64(4), int64(23)\n",
      "memory usage: 222.1 MB\n"
     ]
    }
   ],
   "source": [
    "labled.info()"
   ]
  },
  {
   "cell_type": "markdown",
   "metadata": {},
   "source": [
    "# Modeling"
   ]
  },
  {
   "cell_type": "code",
   "execution_count": null,
   "metadata": {},
   "outputs": [],
   "source": [
    "x = train_df.drop(columns=['Sales'])\n",
    "y = train_df['Sales'].values"
   ]
  },
  {
   "cell_type": "code",
   "execution_count": null,
   "metadata": {},
   "outputs": [],
   "source": [
    "mlflow.end_run()\n",
    "model = RandomForestRegressor(n_estimators=5)\n",
    "run_train_pipeline(model, x, y, \n",
    "                experiment_name='RF-REG',\n",
    "                run_name='all_cols2')\n",
    "\n",
    "mlflow.end_run()"
   ]
  },
  {
   "cell_type": "code",
   "execution_count": null,
   "metadata": {},
   "outputs": [],
   "source": [
    "mlflow.end_run()\n",
    "model = RandomForestRegressor(n_estimators=15, max_depth=10)\n",
    "run_train_pipeline(model, x, y, \n",
    "                experiment_name='RF-REG',\n",
    "                run_name='all_cols_3')\n",
    "\n",
    "mlflow.end_run()"
   ]
  },
  {
   "cell_type": "code",
   "execution_count": null,
   "metadata": {},
   "outputs": [],
   "source": []
  }
 ],
 "metadata": {
  "interpreter": {
   "hash": "9ae17cd3bd788a94320e0d05b6452017a9651648b673e7b352c316aae5e41a4d"
  },
  "kernelspec": {
   "display_name": "Python 3.10.4 ('venv': venv)",
   "language": "python",
   "name": "python3"
  },
  "language_info": {
   "codemirror_mode": {
    "name": "ipython",
    "version": 3
   },
   "file_extension": ".py",
   "mimetype": "text/x-python",
   "name": "python",
   "nbconvert_exporter": "python",
   "pygments_lexer": "ipython3",
   "version": "3.10.4"
  },
  "orig_nbformat": 4
 },
 "nbformat": 4,
 "nbformat_minor": 2
}

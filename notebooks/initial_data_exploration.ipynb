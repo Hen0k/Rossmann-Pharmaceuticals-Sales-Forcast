{
 "cells": [
  {
   "cell_type": "markdown",
   "metadata": {},
   "source": [
    "# Initial-EDA\n",
    "\n",
    "In here I will try to determin the health of the data:\n",
    "\n",
    "    - looking for missing entries\n",
    "\n",
    "    - deciding how best to deal with them\n",
    "\n",
    "    - looking for data types and formats that should be chaged\n",
    "\n",
    "    - univariate analysis of the features\n",
    "\n",
    "    - looking for Time Series Analysis (TSA) specific components\n",
    "\n",
    "      - Trend\n",
    "      - Seasonality\n",
    "      - Cyclic\n",
    "      - Irregularity\n",
    "\n",
    "    - Identifying the Time Series Data type\n",
    "\n",
    "      - Stationary or Non-Stationary\n",
    "      - Using statistical tests to check if the data is Stationary\n",
    "        1. Augmented Dickey-Fuller (ADF) Test\n",
    "        2. Kwiatkowski-Plillips-Schmidt-Shin (KPSS) Test\n",
    "\n",
    "    - Converting data to Stationary type\n",
    "      - Detrending\n",
    "      - Deferencing"
   ]
  },
  {
   "cell_type": "markdown",
   "metadata": {},
   "source": [
    "# Imports"
   ]
  },
  {
   "cell_type": "code",
   "execution_count": 1,
   "metadata": {},
   "outputs": [],
   "source": [
    "import sys\n",
    "sys.path.append('../')\n",
    "\n",
    "from src.fetch_data import DataLoader\n",
    "from src.rotating_logs import get_rotating_log"
   ]
  },
  {
   "cell_type": "code",
   "execution_count": 2,
   "metadata": {},
   "outputs": [
    {
     "name": "stderr",
     "output_type": "stream",
     "text": [
      "DataLoaderLogger - INFO - DVC: CSV file read with path: data/raw/store.csv | version: raw_data | from: ../\n"
     ]
    }
   ],
   "source": [
    "data_path = 'data/raw/store.csv'\n",
    "version = 'raw_data'\n",
    "repo = '../'\n",
    "\n",
    "store_df = DataLoader.dvc_get_data(data_path, version, repo)"
   ]
  },
  {
   "cell_type": "code",
   "execution_count": 4,
   "metadata": {},
   "outputs": [
    {
     "name": "stdout",
     "output_type": "stream",
     "text": [
      "<class 'pandas.core.frame.DataFrame'>\n",
      "RangeIndex: 1115 entries, 0 to 1114\n",
      "Data columns (total 10 columns):\n",
      " #   Column                     Non-Null Count  Dtype  \n",
      "---  ------                     --------------  -----  \n",
      " 0   Store                      1115 non-null   int64  \n",
      " 1   StoreType                  1115 non-null   object \n",
      " 2   Assortment                 1115 non-null   object \n",
      " 3   CompetitionDistance        1112 non-null   float64\n",
      " 4   CompetitionOpenSinceMonth  761 non-null    float64\n",
      " 5   CompetitionOpenSinceYear   761 non-null    float64\n",
      " 6   Promo2                     1115 non-null   int64  \n",
      " 7   Promo2SinceWeek            571 non-null    float64\n",
      " 8   Promo2SinceYear            571 non-null    float64\n",
      " 9   PromoInterval              571 non-null    object \n",
      "dtypes: float64(5), int64(2), object(3)\n",
      "memory usage: 87.2+ KB\n"
     ]
    }
   ],
   "source": [
    "store_df.info()"
   ]
  },
  {
   "cell_type": "code",
   "execution_count": null,
   "metadata": {},
   "outputs": [],
   "source": []
  }
 ],
 "metadata": {
  "interpreter": {
   "hash": "9ae17cd3bd788a94320e0d05b6452017a9651648b673e7b352c316aae5e41a4d"
  },
  "kernelspec": {
   "display_name": "Python 3.10.4 ('venv': venv)",
   "language": "python",
   "name": "python3"
  },
  "language_info": {
   "codemirror_mode": {
    "name": "ipython",
    "version": 3
   },
   "file_extension": ".py",
   "mimetype": "text/x-python",
   "name": "python",
   "nbconvert_exporter": "python",
   "pygments_lexer": "ipython3",
   "version": "3.10.4"
  },
  "orig_nbformat": 4
 },
 "nbformat": 4,
 "nbformat_minor": 2
}
